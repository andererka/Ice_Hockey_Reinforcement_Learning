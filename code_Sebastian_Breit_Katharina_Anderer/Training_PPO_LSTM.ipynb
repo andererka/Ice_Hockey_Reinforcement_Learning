{
 "cells": [
  {
   "cell_type": "code",
   "execution_count": 9,
   "metadata": {
    "scrolled": true
   },
   "outputs": [
    {
     "name": "stdout",
     "output_type": "stream",
     "text": [
      "The autoreload extension is already loaded. To reload it, use:\n",
      "  %reload_ext autoreload\n",
      "cuda\n"
     ]
    }
   ],
   "source": [
    "%load_ext autoreload\n",
    "%autoreload \n",
    "import os\n",
    "\n",
    "#os.chdir('/home/kathi/Dokumente/ReIn_Course/project/laser-hockey-env-master')\n",
    "import numpy as np\n",
    "import laserhockey.hockey_env as h_env\n",
    "import gym\n",
    "import torch\n",
    "import time\n",
    "\n",
    "\n",
    "device = torch.device(\"cuda\" if torch.cuda.is_available() else \"cpu\")\n",
    "print(device)\n",
    "\n"
   ]
  },
  {
   "cell_type": "code",
   "execution_count": 10,
   "metadata": {
    "scrolled": true
   },
   "outputs": [
    {
     "name": "stdout",
     "output_type": "stream",
     "text": [
      "Box(-1.0, 1.0, (8,), float32)\n",
      "Box(-inf, inf, (18,), float32)\n",
      "[(-inf, inf), (-inf, inf), (-inf, inf), (-inf, inf), (-inf, inf), (-inf, inf), (-inf, inf), (-inf, inf), (-inf, inf), (-inf, inf), (-inf, inf), (-inf, inf), (-inf, inf), (-inf, inf), (-inf, inf), (-inf, inf), (-inf, inf), (-inf, inf)]\n",
      "PPO with state dim: 18 and action dim 8\n"
     ]
    }
   ],
   "source": [
    "def clear_envs():\n",
    "    for env in env_list:\n",
    "        env.close()\n",
    "\n",
    "\n",
    "def add_env(env):\n",
    "    env_list.append(env)\n",
    "\n",
    "\n",
    "render = False\n",
    "solved_reward = 430         # stop training if avg_reward > solved_reward\n",
    "log_interval = 20           # print avg reward in the interval\n",
    "max_episodes = 3000        # max training episodes\n",
    "max_timesteps = 300         # max timesteps in one episode\n",
    "n_latent_var = 64           # number of variables in hidden layer\n",
    "update_timestep = 8000      # update policy every n timesteps (was set to 2000)\n",
    "lr = 0.0003\n",
    "betas = (0.9, 0.999)\n",
    "gamma = 0.99                # discount factor\n",
    "K_epochs = 80      # update policy for K epochs\n",
    "eps_clip = 0.2   # clip parameter for PPO\n",
    "random_seed = 20\n",
    "\n",
    "\n",
    "import math\n",
    "\n",
    "import DDPG.PPO_LSTM as PPO \n",
    "\n",
    "import DDPG.episodic_memory as EpisodicReplayMemory\n",
    "\n",
    "\n",
    "env = h_env.HockeyEnv(mode=0)\n",
    "env_name = 'HockeyEnv'\n",
    "\n",
    "\n",
    "o_space = env.observation_space\n",
    "ac_space = env.action_space\n",
    "print(ac_space)\n",
    "print(o_space)\n",
    "print(list(zip(env.observation_space.low, env.observation_space.high)))\n",
    "\n",
    "use_target = True\n",
    "action_std = 0.4\n",
    "\n",
    "ppo = PPO.PPO(o_space.shape[0], ac_space.shape[0] , action_std, n_latent_var, lr, betas, gamma, K_epochs, eps_clip, t_max= 5, device='cpu' )\n",
    "print(\"PPO with state dim: {} and action dim {}\".format(o_space.shape[0], ac_space.shape[0]))\n",
    "\n",
    "import matplotlib.pyplot as plt"
   ]
  },
  {
   "cell_type": "code",
   "execution_count": 11,
   "metadata": {},
   "outputs": [],
   "source": [
    "def running_mean(x, N):\n",
    "    cumsum = np.cumsum(np.insert(x, 0, 0))\n",
    "    return (cumsum[N:] - cumsum[:-N]) / float(N)"
   ]
  },
  {
   "cell_type": "code",
   "execution_count": 12,
   "metadata": {},
   "outputs": [],
   "source": [
    "def subplot(fig, R, S, P, Q, path):\n",
    "    plt.clf()\n",
    "    r = list(zip(*R))\n",
    "    s = list(zip(*S))\n",
    "    p = list(zip(*P))\n",
    "    q = list(zip(*Q))\n",
    "    if fig != None:\n",
    "        plt.close(fig)\n",
    "    # clear_output(wait=True)\n",
    "    \n",
    "    fig, ax = plt.subplots(nrows=2, ncols=2, figsize=(15, 15))\n",
    "    \n",
    "    ax[0, 0].plot(list(r[1]), list(r[0]), 'r')  # row=0, col=0\n",
    "    ax[0, 1].plot(list(s[1]), list(s[0]), 'k')  # row=0, col=1\n",
    "\n",
    "    ax[1, 0].plot(list(p[1]), list(p[0]), 'b')  # row=1, col=0\n",
    "    ax[1, 1].plot(list(q[1]), list(q[0]), 'g')  # row=1, col=1\n",
    "    ax[0, 0].title.set_text('Reward')\n",
    "    ax[0, 1].title.set_text('Smoothed Reward')\n",
    "    ax[1, 0].title.set_text('Loss')\n",
    "    ax[1, 1].title.set_text('Smoothed Loss')\n",
    "    plt.pause(0.02)\n",
    "    fig.savefig(path)\n",
    "    fig.clear()\n",
    "    return fig"
   ]
  },
  {
   "cell_type": "code",
   "execution_count": 13,
   "metadata": {},
   "outputs": [],
   "source": [
    "class Memory:\n",
    "    def __init__(self):\n",
    "        self.actions = []\n",
    "        self.states = []\n",
    "        self.logprobs = []\n",
    "        self.rewards = []\n",
    "        self.is_terminals = []\n",
    "        self.h_in = []\n",
    "        self.h_out = []\n",
    "\n",
    "    \n",
    "    def clear_memory(self):\n",
    "        del self.actions[:]\n",
    "        del self.states[:]\n",
    "        del self.logprobs[:]\n",
    "        del self.rewards[:]\n",
    "        del self.is_terminals[:]\n",
    "        del self.h_in[:]\n",
    "        del self.h_out[:]\n"
   ]
  },
  {
   "cell_type": "code",
   "execution_count": 14,
   "metadata": {},
   "outputs": [],
   "source": [
    "memory = Memory()\n",
    "\n",
    "##reading in old ppo:\n",
    "\n",
    "#ppo.policy_old.load_state_dict(torch.load('results/PPO_HockeyEnv-eps0.2-discount0.99-lr0.0005-random_choice95-time20210306-183529.pth'))"
   ]
  },
  {
   "cell_type": "code",
   "execution_count": 15,
   "metadata": {},
   "outputs": [],
   "source": [
    "# for hyperparameter tuning:\n",
    "eps_clips = [0.3, 0.28]   # clip parameter for PPO\n",
    "lrs = [0.0005, 0.00001]\n"
   ]
  },
  {
   "cell_type": "code",
   "execution_count": 17,
   "metadata": {
    "scrolled": true
   },
   "outputs": [
    {
     "name": "stdout",
     "output_type": "stream",
     "text": [
      "The autoreload extension is already loaded. To reload it, use:\n",
      "  %reload_ext autoreload\n",
      "update 128\n",
      "30: Episode reward: -20.061956820794947 \n",
      " loss 0.44926536083221436\n",
      "Best reward 8.301782981783447 at episode 5\n"
     ]
    },
    {
     "ename": "IndexError",
     "evalue": "list index out of range",
     "output_type": "error",
     "traceback": [
      "\u001b[0;31m---------------------------------------------------------------------------\u001b[0m",
      "\u001b[0;31mIndexError\u001b[0m                                Traceback (most recent call last)",
      "\u001b[0;32m<ipython-input-17-0c128bc050e2>\u001b[0m in \u001b[0;36m<module>\u001b[0;34m\u001b[0m\n\u001b[1;32m    138\u001b[0m \u001b[0;34m\u001b[0m\u001b[0m\n\u001b[1;32m    139\u001b[0m \u001b[0;34m\u001b[0m\u001b[0m\n\u001b[0;32m--> 140\u001b[0;31m         \u001b[0mcurrent_fig\u001b[0m \u001b[0;34m=\u001b[0m \u001b[0msubplot\u001b[0m\u001b[0;34m(\u001b[0m\u001b[0mcurrent_fig\u001b[0m\u001b[0;34m,\u001b[0m \u001b[0mplot_reward\u001b[0m\u001b[0;34m,\u001b[0m \u001b[0mplot_smoothed_reward\u001b[0m\u001b[0;34m,\u001b[0m \u001b[0mplot_loss\u001b[0m\u001b[0;34m,\u001b[0m \u001b[0mplot_smoothed_losses\u001b[0m\u001b[0;34m,\u001b[0m \u001b[0mpath\u001b[0m \u001b[0;34m=\u001b[0m \u001b[0;34mf'./figures/PPO_{env_name}-eps{eps_clip}-discount{gamma}-lr{lr}-random_choice{random_choice_par}.jpg'\u001b[0m\u001b[0;34m)\u001b[0m\u001b[0;34m\u001b[0m\u001b[0;34m\u001b[0m\u001b[0m\n\u001b[0m\u001b[1;32m    141\u001b[0m \u001b[0;34m\u001b[0m\u001b[0m\n\u001b[1;32m    142\u001b[0m \u001b[0;34m\u001b[0m\u001b[0m\n",
      "\u001b[0;32m<ipython-input-12-cf3e36f9f9ba>\u001b[0m in \u001b[0;36msubplot\u001b[0;34m(fig, R, S, P, Q, path)\u001b[0m\n\u001b[1;32m     12\u001b[0m \u001b[0;34m\u001b[0m\u001b[0m\n\u001b[1;32m     13\u001b[0m     \u001b[0max\u001b[0m\u001b[0;34m[\u001b[0m\u001b[0;36m0\u001b[0m\u001b[0;34m,\u001b[0m \u001b[0;36m0\u001b[0m\u001b[0;34m]\u001b[0m\u001b[0;34m.\u001b[0m\u001b[0mplot\u001b[0m\u001b[0;34m(\u001b[0m\u001b[0mlist\u001b[0m\u001b[0;34m(\u001b[0m\u001b[0mr\u001b[0m\u001b[0;34m[\u001b[0m\u001b[0;36m1\u001b[0m\u001b[0;34m]\u001b[0m\u001b[0;34m)\u001b[0m\u001b[0;34m,\u001b[0m \u001b[0mlist\u001b[0m\u001b[0;34m(\u001b[0m\u001b[0mr\u001b[0m\u001b[0;34m[\u001b[0m\u001b[0;36m0\u001b[0m\u001b[0;34m]\u001b[0m\u001b[0;34m)\u001b[0m\u001b[0;34m,\u001b[0m \u001b[0;34m'r'\u001b[0m\u001b[0;34m)\u001b[0m  \u001b[0;31m# row=0, col=0\u001b[0m\u001b[0;34m\u001b[0m\u001b[0;34m\u001b[0m\u001b[0m\n\u001b[0;32m---> 14\u001b[0;31m     \u001b[0max\u001b[0m\u001b[0;34m[\u001b[0m\u001b[0;36m0\u001b[0m\u001b[0;34m,\u001b[0m \u001b[0;36m1\u001b[0m\u001b[0;34m]\u001b[0m\u001b[0;34m.\u001b[0m\u001b[0mplot\u001b[0m\u001b[0;34m(\u001b[0m\u001b[0mlist\u001b[0m\u001b[0;34m(\u001b[0m\u001b[0ms\u001b[0m\u001b[0;34m[\u001b[0m\u001b[0;36m1\u001b[0m\u001b[0;34m]\u001b[0m\u001b[0;34m)\u001b[0m\u001b[0;34m,\u001b[0m \u001b[0mlist\u001b[0m\u001b[0;34m(\u001b[0m\u001b[0ms\u001b[0m\u001b[0;34m[\u001b[0m\u001b[0;36m0\u001b[0m\u001b[0;34m]\u001b[0m\u001b[0;34m)\u001b[0m\u001b[0;34m,\u001b[0m \u001b[0;34m'k'\u001b[0m\u001b[0;34m)\u001b[0m  \u001b[0;31m# row=0, col=1\u001b[0m\u001b[0;34m\u001b[0m\u001b[0;34m\u001b[0m\u001b[0m\n\u001b[0m\u001b[1;32m     15\u001b[0m \u001b[0;34m\u001b[0m\u001b[0m\n\u001b[1;32m     16\u001b[0m     \u001b[0max\u001b[0m\u001b[0;34m[\u001b[0m\u001b[0;36m1\u001b[0m\u001b[0;34m,\u001b[0m \u001b[0;36m0\u001b[0m\u001b[0;34m]\u001b[0m\u001b[0;34m.\u001b[0m\u001b[0mplot\u001b[0m\u001b[0;34m(\u001b[0m\u001b[0mlist\u001b[0m\u001b[0;34m(\u001b[0m\u001b[0mp\u001b[0m\u001b[0;34m[\u001b[0m\u001b[0;36m1\u001b[0m\u001b[0;34m]\u001b[0m\u001b[0;34m)\u001b[0m\u001b[0;34m,\u001b[0m \u001b[0mlist\u001b[0m\u001b[0;34m(\u001b[0m\u001b[0mp\u001b[0m\u001b[0;34m[\u001b[0m\u001b[0;36m0\u001b[0m\u001b[0;34m]\u001b[0m\u001b[0;34m)\u001b[0m\u001b[0;34m,\u001b[0m \u001b[0;34m'b'\u001b[0m\u001b[0;34m)\u001b[0m  \u001b[0;31m# row=1, col=0\u001b[0m\u001b[0;34m\u001b[0m\u001b[0;34m\u001b[0m\u001b[0m\n",
      "\u001b[0;31mIndexError\u001b[0m: list index out of range"
     ]
    },
    {
     "data": {
      "text/plain": [
       "<Figure size 432x288 with 0 Axes>"
      ]
     },
     "metadata": {},
     "output_type": "display_data"
    },
    {
     "data": {
      "image/png": "[encoded data removed]",
      "text/plain": [
       "<Figure size 1080x1080 with 4 Axes>"
      ]
     },
     "metadata": {
      "needs_background": "light"
     },
     "output_type": "display_data"
    }
   ],
   "source": [
    "%load_ext autoreload\n",
    "%autoreload \n",
    "import datetime\n",
    "\n",
    "from pathlib import Path\n",
    "\n",
    "plot_reward = []\n",
    "plot_loss = []\n",
    "plot_smoothed_reward = []\n",
    "plot_smoothed_losses = []\n",
    "\n",
    "#replay_number = 5\n",
    "\n",
    "fps = 50\n",
    "show = False\n",
    "stats = []\n",
    "losses = []\n",
    "#random_explore_no = 300\n",
    "total_steps = 0\n",
    "current_fig = None\n",
    "best_reward = -np.inf\n",
    "best_episode = 0\n",
    "model_dir = \"saved_models\"\n",
    "\n",
    "\n",
    "update_timestep = 4000      # update policy every n timesteps (was set to 2000)\n",
    "#NORMAL = 0\n",
    "#TRAIN_SHOOTING = 1\n",
    "#TRAIN_DEFENSE = 2\n",
    "\n",
    "\n",
    "env = h_env.HockeyEnv(mode=0)\n",
    "opponent = h_env.BasicOpponent(weak=False)\n",
    "\n",
    "\n",
    "\n",
    "time_step = 0\n",
    "\n",
    "plot_reward = []\n",
    "plot_smoothed_reward = []\n",
    "plot_loss = []\n",
    "plot_smoothed_reward = []\n",
    "\n",
    "eps_clip = 0.2\n",
    "\n",
    "lr = 0.0005\n",
    "\n",
    "gamma = 0.99\n",
    "\n",
    "max_episodes = 800\n",
    "\n",
    "random_choice_par = 95\n",
    "\n",
    "loss = 0\n",
    "\n",
    "\n",
    "memory = Memory()\n",
    "\n",
    "# training loop\n",
    "for episode in range(1, max_episodes+1):\n",
    "    ##initalize hidden states:\n",
    "    h_out = (torch.zeros([1, 1, 32], dtype=torch.float), torch.zeros([1, 1, 32], dtype=torch.float))\n",
    "\n",
    "    running_reward = 0\n",
    "    running_loss = 0\n",
    "    state = env.reset()\n",
    "    obs_agent2 = env.obs_agent_two()\n",
    "    \n",
    "    for t in range(max_timesteps):\n",
    "        time_step +=1\n",
    "        \n",
    "        # choose random action with certain probability:\n",
    "        if int(np.random.choice(100)) > random_choice_par:\n",
    "            action = ppo.random_action()\n",
    "        \n",
    "        h_in = h_out\n",
    "        #else:\n",
    "        action, h_out = ppo.select_action(state, memory, h_in)\n",
    "        \n",
    "        memory.h_in.append(h_in)\n",
    "\n",
    "        memory.h_out.append(h_out)\n",
    "\n",
    "        a2 = opponent.act(obs_agent2)\n",
    "\n",
    "        state, reward, done, info = env.step(np.hstack([action[:4], a2])) \n",
    "\n",
    "        obs_agent2 = env.obs_agent_two()\n",
    "        reward_closeness_to_puck = info['reward_closeness_to_puck']     #it's already included\n",
    "        reward_puck_direction  = info['reward_puck_direction']\n",
    "        reward_touch_puck = info['reward_touch_puck']\n",
    "\n",
    "        reward = reward #+ reward_closeness_to_puck + reward_puck_direction + reward_touch_puck\n",
    "        # Saving reward and is_terminals:\n",
    "        memory.rewards.append(reward)\n",
    "        memory.is_terminals.append(done)\n",
    "\n",
    "        # update if its time\n",
    "        if time_step % update_timestep == 0:\n",
    "            print('update', t)\n",
    "            ppo.update(memory)\n",
    "            loss = ppo.loss\n",
    "            memory.clear_memory()\n",
    "            time_step = 0\n",
    "            running_loss += loss\n",
    "        running_reward += reward\n",
    "\n",
    "        if render:\n",
    "            env.render()\n",
    "        if done:\n",
    "            break\n",
    "\n",
    "    stats.append([episode, running_reward])\n",
    "    losses.append([episode, running_loss])\n",
    "    try:\n",
    "        plot_reward.append([running_reward, episode + 1])\n",
    "        plot_loss.append([running_loss, episode + 1])\n",
    "\n",
    "        smoothed_rewards = running_mean(np.asarray(stats)[:, 1], 500).tolist()\n",
    "        smoothed_losses = running_mean(np.asarray(losses)[:, 1], 20).tolist()\n",
    "        if smoothed_rewards:\n",
    "            plot_smoothed_reward.append([smoothed_rewards[-1], episode + 1])\n",
    "        if smoothed_losses:\n",
    "            plot_smoothed_losses.append([smoothed_losses[-1], episode + 1])\n",
    "\n",
    "    except:\n",
    "        continue\n",
    "\n",
    "\n",
    "    if running_reward > best_reward:\n",
    "\n",
    "        best_reward = running_reward\n",
    "        best_episode = episode\n",
    "\n",
    "    if ((episode > 0) and (episode % 30 == 0)):\n",
    "        print(\"{}: Episode reward: {} \\n loss {}\".format(episode,running_reward, loss))\n",
    "        print(\"Best reward {} at episode {}\".format(best_reward, best_episode))\n",
    "\n",
    "\n",
    "        current_fig = subplot(current_fig, plot_reward, plot_smoothed_reward, plot_loss, plot_smoothed_losses, path = f'./figures/PPO_{env_name}-eps{eps_clip}-discount{gamma}-lr{lr}-random_choice{random_choice_par}.jpg')\n",
    "\n",
    "\n",
    "#plt.savefig(f'./figures/current_fig{env_name}-eps{eps_clip}-discount{gamma}-lr{lr}.png')\n",
    "time1 = datetime.datetime.now().strftime(\"%Y%m%d\")\n",
    "time2 = datetime.datetime.now().strftime(\"%H%M%S\")\n",
    "current_fig = subplot(current_fig, plot_reward, plot_smoothed_reward, plot_loss, plot_smoothed_losses, path = f'./figures/{time1}-{time2}_PPO_{env_name}-eps{eps_clip}-discount{gamma}-lr{lr}-random_choice{random_choice_par}.jpg')\n",
    "\n",
    "time1 = datetime.datetime.now().strftime(\"%d\")\n",
    "time2 = datetime.datetime.now().strftime(\"%H:%M:%S\")\n",
    "\n",
    "\n",
    "\n",
    "path = str('results/' + time1 + '-' + time2)\n",
    "os.mkdir(path)\n",
    "torch.save(ppo.policy.state_dict(), f'./{path}/PPO_LSTM_{env_name}-eps{eps_clip}-discount{gamma}-lr{lr}-random_choice{random_choice_par}.pth')\n"
   ]
  },
  {
   "cell_type": "code",
   "execution_count": null,
   "metadata": {},
   "outputs": [],
   "source": []
  },
  {
   "cell_type": "code",
   "execution_count": 9,
   "metadata": {},
   "outputs": [],
   "source": [
    "torch.save(ppo.policy.state_dict(), f'./{path}/PPO_{env_name}-eps{eps_clip}-discount{gamma}-lr{lr}-random_choice{random_choice_par}.pth')\n"
   ]
  },
  {
   "cell_type": "code",
   "execution_count": 92,
   "metadata": {},
   "outputs": [],
   "source": []
  },
  {
   "cell_type": "code",
   "execution_count": 15,
   "metadata": {},
   "outputs": [],
   "source": [
    "\n",
    "opponent = h_env.BasicOpponent(weak=True)\n",
    "env.render()\n",
    "time.sleep(1)\n",
    "obs_agent2 = env.obs_agent_two()\n",
    "for _ in range(2):\n",
    "    obs =env.reset()\n",
    "    obs_agent2 = env.obs_agent_two()\n",
    "    for _ in range(200):\n",
    "\n",
    "        time.sleep(0.1)\n",
    "        env.render()\n",
    "        a1, _ = ppo.select_action(obs, memory, h_out)\n",
    "        a2 = opponent.act(obs_agent2)\n",
    "        obs, r, d, info = env.step(np.hstack([a1[:4], a2]))   \n",
    "        obs_agent2 = env.obs_agent_two()\n",
    "        if d: break"
   ]
  },
  {
   "cell_type": "code",
   "execution_count": 16,
   "metadata": {},
   "outputs": [],
   "source": [
    "env.close()"
   ]
  },
  {
   "cell_type": "code",
   "execution_count": null,
   "metadata": {},
   "outputs": [],
   "source": []
  }
 ],
 "metadata": {
  "kernelspec": {
   "display_name": "Python 3",
   "language": "python",
   "name": "python3"
  },
  "language_info": {
   "codemirror_mode": {
    "name": "ipython",
    "version": 3
   },
   "file_extension": ".py",
   "mimetype": "text/x-python",
   "name": "python",
   "nbconvert_exporter": "python",
   "pygments_lexer": "ipython3",
   "version": "3.8.3"
  }
 },
 "nbformat": 4,
 "nbformat_minor": 4
}
